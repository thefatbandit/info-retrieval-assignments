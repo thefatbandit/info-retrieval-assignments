{
 "metadata": {
  "language_info": {
   "codemirror_mode": {
    "name": "ipython",
    "version": 3
   },
   "file_extension": ".py",
   "mimetype": "text/x-python",
   "name": "python",
   "nbconvert_exporter": "python",
   "pygments_lexer": "ipython3",
   "version": "3.7.6-final"
  },
  "orig_nbformat": 2,
  "kernelspec": {
   "name": "python37664bitbaseconda1c5afe4909b94d1f9ad8012633fc5cb5",
   "display_name": "Python 3.7.6 64-bit ('base': conda)"
  }
 },
 "nbformat": 4,
 "nbformat_minor": 2,
 "cells": [
  {
   "cell_type": "code",
   "execution_count": 125,
   "metadata": {
    "tags": []
   },
   "outputs": [
    {
     "output_type": "stream",
     "name": "stdout",
     "text": "DocID: 531\n"
    }
   ],
   "source": [
    "from bs4 import BeautifulSoup\n",
    "import os \n",
    "import re\n",
    "import nltk\n",
    "from copy import deepcopy\n",
    "\n",
    "ECTNestedDict = {}\n",
    "file_path = os.getcwd() + \"/ECT/\"\n",
    "\n",
    "file_list = os.listdir(file_path)\n",
    "\n",
    "# Dictionary Construction\n",
    "i=0\n",
    "path = file_path + file_list[i]\n",
    "ID = re.findall(r'\\d+', file_list[i])[0]\n",
    "print(\"DocID: \" + ID)\n",
    "\n",
    "\n",
    "tr_file = open(path)\n",
    "# Parsing the html\n",
    "soup = BeautifulSoup(tr_file, features=\"html.parser\")\n",
    "\n",
    "# kill all script and style elements\n",
    "for script in soup([\"script\", \"style\"]):\n",
    "    script.extract()    # rip it out\n",
    "\n",
    "# Storing Date\n",
    "# Storing the 1st line\n",
    "# a = (soup.find('p', class_='p p1')).get_text()  # For finding a specific class in the html\n",
    "a = (soup.find('p', {'class' : 'p p1'})).get_text()  # For finding a specific class in the html\n",
    "#  Finding the date through regex\n",
    "a = re.findall(r'[A-Z]\\w+\\s+\\d+\\,\\s+\\d+',a)\n",
    "# Removing extra spaces from the date\n",
    "date = \" \".join(a[0].split())\n",
    "\n",
    "a = soup.findAll('p')\n",
    "\n",
    "# Constructing Participant List\n",
    "part_list= []\n",
    "flag=0  # flag for storing no. of strong texts <strong> texts\n",
    "ctr=-1\n",
    "\n",
    "while(flag<3):\n",
    "    ctr+=1\n",
    "    tag = a[ctr]\n",
    "    if(tag.find('strong')):\n",
    "        flag+=1\n",
    "    elif(flag>0):\n",
    "        part_list.append(tag.get_text())\n",
    "\n",
    "presentation_dict ={}\n",
    "temp =[]\n",
    "speaker = \"\"\n",
    "flag = 0\n",
    "qna_head_phrases = [\"question-and-answer session\", \"question-and-answers session\", \"questions-and-answers session\", \"questions-and-answer session\"]\n",
    "\n",
    "while(ctr<len(a) and ((a[ctr].get_text()).lower() not in qna_head_phrases)):\n",
    "    tag = a[ctr]\n",
    "    if(tag.find('strong')):\n",
    "        if((tag.get_text() not in presentation_dict.keys())):\n",
    "            if(flag==0):\n",
    "                speaker = tag.get_text()\n",
    "                flag=1\n",
    "            elif(flag!=0):\n",
    "                presentation_dict[speaker] = temp\n",
    "                temp=[]\n",
    "                speaker = tag.get_text()\n",
    "        else:\n",
    "            presentation_dict[speaker] = temp\n",
    "            speaker = tag.get_text()\n",
    "            temp = presentation_dict[speaker]\n",
    "    else:\n",
    "        temp.append(tag.get_text())\n",
    "    ctr+=1\n",
    "\n",
    "ctr+=1 # To move forward from the Q-&-A Heading tag\n",
    "\n",
    "# Construction of Questionnaire Dictionary\n",
    "question_dict = {}\n",
    "temp = {}\n",
    "speaker = \"\"\n",
    "flag = 0\n",
    "remarks = []\n",
    "flow_ctr= 1\n",
    "while(ctr<len(a)):\n",
    "    tag =a[ctr]\n",
    "    if((tag.find('strong') or (tag.get_text() in part_list))):\n",
    "        if(flag==0):\n",
    "            speaker = tag.get_text()\n",
    "            flag=1\n",
    "        else:\n",
    "            temp[\"Speaker\"] = deepcopy(speaker)\n",
    "            temp[\"Remarks\"] = remarks\n",
    "            question_dict[flow_ctr] = deepcopy(temp)\n",
    "            speaker = tag.get_text()\n",
    "            remarks = []\n",
    "            temp = {}\n",
    "            flow_ctr+=1\n",
    "    else:\n",
    "        remarks.append(tag.get_text())\n",
    "    ctr+=1\n",
    "\n",
    "# Added to add the last speaker to the dict.\n",
    "temp[\"Speaker\"] = deepcopy(speaker)\n",
    "temp[\"Remarks\"] = remarks\n",
    "question_dict[flow_ctr] = deepcopy(temp)\n"
   ]
  },
  {
   "cell_type": "code",
   "execution_count": null,
   "metadata": {},
   "outputs": [],
   "source": [
    "print(date)\n",
    "for temp in part_list:\n",
    "    print"
   ]
  },
  {
   "cell_type": "code",
   "execution_count": null,
   "metadata": {
    "tags": []
   },
   "outputs": [],
   "source": [
    "\n",
    "for i in range(1, len(question_dict.keys())+1):\n",
    "    temp = question_dict[i]\n",
    "    print(str(i) + \": \" + temp[\"Speaker\"])\n",
    "    for b in temp[\"Remarks\"]:\n",
    "        print(b)"
   ]
  },
  {
   "cell_type": "code",
   "execution_count": null,
   "metadata": {
    "tags": []
   },
   "outputs": [],
   "source": [
    "a = (soup.findAll('strong'))\n",
    "Question-And-Answer Session\n",
    "\n",
    "# For finding with ID\n",
    "# soup.find(id='abc1')"
   ]
  }
 ]
}